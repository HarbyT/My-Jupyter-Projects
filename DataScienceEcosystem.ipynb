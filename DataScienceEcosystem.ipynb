{
 "cells": [
  {
   "attachments": {},
   "cell_type": "markdown",
   "id": "c1327124-548b-404a-927d-3265446495f4",
   "metadata": {
    "editable": true,
    "slideshow": {
     "slide_type": ""
    },
    "tags": []
   },
   "source": [
    "# Data Science Tools and Ecosystem"
   ]
  },
  {
   "cell_type": "markdown",
   "id": "81157fd5-a6ad-431f-a8d2-19b37330bb37",
   "metadata": {},
   "source": [
    "In this notebook, Data Science Tools and Ecosystem are summarized."
   ]
  },
  {
   "cell_type": "markdown",
   "id": "2d5428f1-2425-4e7c-bce2-a3cd5b3c43c0",
   "metadata": {},
   "source": [
    "Some of the popular languages that Data Scientists use are:"
   ]
  },
  {
   "cell_type": "markdown",
   "id": "7bb14cf2-0977-4f11-bd2b-c48a1edb1873",
   "metadata": {},
   "source": [
    "1. Python: Python is a general-purpose programming language that is widely used in data science for its ease of use, extensive libraries (such as NumPy, pandas, and scikit-learn), and strong community support.\n",
    "\n",
    "2. R: R is a programming language specifically designed for statistical computing and graphics. It is popular among statisticians and data scientists for its powerful statistical analysis capabilities and rich ecosystem of packages for data visualization and manipulation.\n",
    "\n",
    "3. SQL: SQL (Structured Query Language) is a domain-specific language used for managing and manipulating relational databases. It is essential for 1  data scientists who need to extract, transform, and load data from databases.   "
   ]
  },
  {
   "cell_type": "markdown",
   "id": "ab8ab015-e38a-4e62-9041-ecf348ff6ded",
   "metadata": {},
   "source": [
    "Some of the commonly used libraries used by Data Scientists include:\n",
    "1. NumPy: NumPy (Numerical Python) is a fundamental library for numerical computing in Python. It provides support for large, multi-dimensional arrays and matrices, along with a collection of mathematical functions to operate on these arrays efficiently.  It's a building block for many other data science libraries.   \n",
    "\n",
    "2. pandas: pandas provides data structures like DataFrames, which are essential for data manipulation and analysis. It allows you to easily clean, transform, and explore your data.  It makes working with tabular data much easier.\n",
    "\n",
    "3. scikit-learn: scikit-learn is a comprehensive library for machine learning in Python. It offers a wide range of algorithms for classification, regression, clustering, dimensionality reduction, and model selection, as well as tools for model evaluation and preprocessing.   \n",
    "\n",
    "4. Matplotlib: Matplotlib is a plotting library that enables you to create static, interactive, and animated visualizations in Python.  It's crucial for exploring data and communicating results.\n",
    "\n",
    "5. Seaborn: Seaborn builds on top of Matplotlib and provides a higher-level interface for creating statistically informative and visually appealing graphics. It simplifies the creation of complex visualizations."
   ]
  },
  {
   "cell_type": "markdown",
   "id": "dc65b234-97c0-43ea-b4b1-682a274bc338",
   "metadata": {},
   "source": [
    "| Data Science Tools |\n",
    "|---|\n",
    "| Jupyter Notebooks |\n",
    "| RStudio |\n",
    "| Apache Zeppelin |"
   ]
  },
  {
   "cell_type": "markdown",
   "id": "c017e9cf-bcc6-44e1-8852-63534fd1c3a8",
   "metadata": {},
   "source": [
    "### Below are a few examples of evaluating arithmetic expressions in Python"
   ]
  },
  {
   "cell_type": "code",
   "execution_count": 5,
   "id": "80da8fc4-fa2e-47c0-a18c-ff5b672bb424",
   "metadata": {},
   "outputs": [
    {
     "data": {
      "text/plain": [
       "17"
      ]
     },
     "execution_count": 5,
     "metadata": {},
     "output_type": "execute_result"
    }
   ],
   "source": [
    "#This a simple arithmetic expression to mutiply then add integers \n",
    "(3*4)+5"
   ]
  },
  {
   "cell_type": "code",
   "execution_count": 6,
   "id": "091a20fd-071e-4088-887b-b3b412f8ee2c",
   "metadata": {},
   "outputs": [
    {
     "data": {
      "text/plain": [
       "3.3333333333333335"
      ]
     },
     "execution_count": 6,
     "metadata": {},
     "output_type": "execute_result"
    }
   ],
   "source": [
    "# This will convert 200 minutes to hours by dividing by 60.\n",
    "hours = 200 / 60\n",
    "hours"
   ]
  },
  {
   "cell_type": "markdown",
   "id": "83e19054-9b1f-4be3-abfe-5a6c74818ffe",
   "metadata": {},
   "source": [
    "**Objectives:**\n",
    "\n",
    "*   List popular languages for Data Science.\n",
    "*   Identify commonly used libraries in Data Science.\n",
    "*   Describe open-source development environment tools used in Data Science.\n",
    "*   Demonstrate basic operations within Jupyter Notebooks, including markdown cells and code execution.\n",
    "*   Perform simple calculations within a code cell.\n"
   ]
  },
  {
   "cell_type": "markdown",
   "id": "428c1fc2-7acf-4547-8e08-d1d94feada4b",
   "metadata": {},
   "source": [
    "## Author\n",
    "\n",
    "Harby Andrés Trujillo Vargas"
   ]
  },
  {
   "cell_type": "code",
   "execution_count": null,
   "id": "10fe9a30-7cf0-4652-b26c-67eec0f8fc65",
   "metadata": {},
   "outputs": [],
   "source": []
  }
 ],
 "metadata": {
  "kernelspec": {
   "display_name": "Python 3 (ipykernel)",
   "language": "python",
   "name": "python3"
  },
  "language_info": {
   "codemirror_mode": {
    "name": "ipython",
    "version": 3
   },
   "file_extension": ".py",
   "mimetype": "text/x-python",
   "name": "python",
   "nbconvert_exporter": "python",
   "pygments_lexer": "ipython3",
   "version": "3.12.8"
  }
 },
 "nbformat": 4,
 "nbformat_minor": 5
}
